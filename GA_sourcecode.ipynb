{
 "cells": [
  {
   "cell_type": "code",
   "execution_count": 1,
   "metadata": {},
   "outputs": [],
   "source": [
    "import sqlite3 \n",
    "import pandas as pd\n",
    "import numpy as np\n",
    "import random\n",
    "import math\n",
    "import xlsxwriter\n",
    "test_schedule = pd.read_excel(\n",
    "    'LichThi_L2_HK2_NH2019.xlsx', \n",
    "    sheet_name='Sheet1',\n",
    "    header=0,\n",
    "    skiprows=7,\n",
    "    usecols=[\"STT\", \"Tên MH\",\"Ngày thi\",\"Ca Thi\",\"Phòng Thi\",\"Số CBCT\"],\n",
    "    nrows=612)\n"
   ]
  },
  {
   "cell_type": "code",
   "execution_count": 2,
   "metadata": {},
   "outputs": [],
   "source": [
    "test_schedule=test_schedule.rename(columns = {'STT':'CourseID','Tên MH':'CourseName','Ngày thi':'TestDate','Ca Thi':'ShiftOD','Phòng Thi':'Room','Số CBCT':'QuantityOfInvigilator',})\n",
    "test_schedule.sort_values(by=['TestDate','ShiftOD'], inplace=True, ascending=True)\n"
   ]
  },
  {
   "cell_type": "code",
   "execution_count": 3,
   "metadata": {},
   "outputs": [],
   "source": [
    "db_conn = sqlite3.connect(\"assignment.db\")\n",
    "cursor = db_conn.cursor()"
   ]
  },
  {
   "cell_type": "code",
   "execution_count": 4,
   "metadata": {},
   "outputs": [
    {
     "ename": "OperationalError",
     "evalue": "table test_schedule already exists",
     "output_type": "error",
     "traceback": [
      "\u001b[1;31m---------------------------------------------------------------------------\u001b[0m",
      "\u001b[1;31mOperationalError\u001b[0m                          Traceback (most recent call last)",
      "\u001b[1;32m<ipython-input-4-703bea899706>\u001b[0m in \u001b[0;36m<module>\u001b[1;34m\u001b[0m\n\u001b[1;32m----> 1\u001b[1;33m cursor.executescript(\"\"\" \n\u001b[0m\u001b[0;32m      2\u001b[0m     CREATE TABLE test_schedule(\n\u001b[0;32m      3\u001b[0m         \u001b[0mCourseID\u001b[0m \u001b[0mINTEGER\u001b[0m \u001b[0mNOT\u001b[0m \u001b[0mNULL\u001b[0m\u001b[1;33m,\u001b[0m\u001b[1;33m\u001b[0m\u001b[1;33m\u001b[0m\u001b[0m\n\u001b[0;32m      4\u001b[0m         \u001b[0mCourseName\u001b[0m \u001b[0mTEXT\u001b[0m\u001b[1;33m,\u001b[0m\u001b[1;33m\u001b[0m\u001b[1;33m\u001b[0m\u001b[0m\n\u001b[0;32m      5\u001b[0m         \u001b[0mTestDate\u001b[0m \u001b[0mDate\u001b[0m\u001b[1;33m,\u001b[0m\u001b[1;33m\u001b[0m\u001b[1;33m\u001b[0m\u001b[0m\n",
      "\u001b[1;31mOperationalError\u001b[0m: table test_schedule already exists"
     ]
    }
   ],
   "source": [
    "cursor.executescript(\"\"\" \n",
    "    CREATE TABLE test_schedule(\n",
    "        CourseID INTEGER NOT NULL,\n",
    "        CourseName TEXT,\n",
    "        TestDate Date, \n",
    "        ShiftOD INTEGER,\n",
    "        Room TEXT,\n",
    "        QuantityOfInvigilator INTEGER,\n",
    "        PRIMARY KEY(CourseID)\n",
    "        ); \n",
    "    \"\"\")"
   ]
  },
  {
   "cell_type": "code",
   "execution_count": 5,
   "metadata": {},
   "outputs": [
    {
     "ename": "IntegrityError",
     "evalue": "UNIQUE constraint failed: test_schedule.CourseID",
     "output_type": "error",
     "traceback": [
      "\u001b[1;31m---------------------------------------------------------------------------\u001b[0m",
      "\u001b[1;31mIntegrityError\u001b[0m                            Traceback (most recent call last)",
      "\u001b[1;32m<ipython-input-5-c4355c07541b>\u001b[0m in \u001b[0;36m<module>\u001b[1;34m\u001b[0m\n\u001b[1;32m----> 1\u001b[1;33m \u001b[0mtest_schedule\u001b[0m\u001b[1;33m.\u001b[0m\u001b[0mto_sql\u001b[0m\u001b[1;33m(\u001b[0m\u001b[1;34m'test_schedule'\u001b[0m\u001b[1;33m,\u001b[0m \u001b[0mdb_conn\u001b[0m\u001b[1;33m,\u001b[0m \u001b[0mif_exists\u001b[0m\u001b[1;33m=\u001b[0m\u001b[1;34m'append'\u001b[0m\u001b[1;33m,\u001b[0m \u001b[0mindex\u001b[0m\u001b[1;33m=\u001b[0m\u001b[1;32mFalse\u001b[0m\u001b[1;33m)\u001b[0m\u001b[1;33m\u001b[0m\u001b[1;33m\u001b[0m\u001b[0m\n\u001b[0m",
      "\u001b[1;32mE:\\Anaconda\\lib\\site-packages\\pandas\\core\\generic.py\u001b[0m in \u001b[0;36mto_sql\u001b[1;34m(self, name, con, schema, if_exists, index, index_label, chunksize, dtype, method)\u001b[0m\n\u001b[0;32m   2651\u001b[0m         \u001b[1;32mfrom\u001b[0m \u001b[0mpandas\u001b[0m\u001b[1;33m.\u001b[0m\u001b[0mio\u001b[0m \u001b[1;32mimport\u001b[0m \u001b[0msql\u001b[0m\u001b[1;33m\u001b[0m\u001b[1;33m\u001b[0m\u001b[0m\n\u001b[0;32m   2652\u001b[0m \u001b[1;33m\u001b[0m\u001b[0m\n\u001b[1;32m-> 2653\u001b[1;33m         sql.to_sql(\n\u001b[0m\u001b[0;32m   2654\u001b[0m             \u001b[0mself\u001b[0m\u001b[1;33m,\u001b[0m\u001b[1;33m\u001b[0m\u001b[1;33m\u001b[0m\u001b[0m\n\u001b[0;32m   2655\u001b[0m             \u001b[0mname\u001b[0m\u001b[1;33m,\u001b[0m\u001b[1;33m\u001b[0m\u001b[1;33m\u001b[0m\u001b[0m\n",
      "\u001b[1;32mE:\\Anaconda\\lib\\site-packages\\pandas\\io\\sql.py\u001b[0m in \u001b[0;36mto_sql\u001b[1;34m(frame, name, con, schema, if_exists, index, index_label, chunksize, dtype, method)\u001b[0m\n\u001b[0;32m    510\u001b[0m         )\n\u001b[0;32m    511\u001b[0m \u001b[1;33m\u001b[0m\u001b[0m\n\u001b[1;32m--> 512\u001b[1;33m     pandas_sql.to_sql(\n\u001b[0m\u001b[0;32m    513\u001b[0m         \u001b[0mframe\u001b[0m\u001b[1;33m,\u001b[0m\u001b[1;33m\u001b[0m\u001b[1;33m\u001b[0m\u001b[0m\n\u001b[0;32m    514\u001b[0m         \u001b[0mname\u001b[0m\u001b[1;33m,\u001b[0m\u001b[1;33m\u001b[0m\u001b[1;33m\u001b[0m\u001b[0m\n",
      "\u001b[1;32mE:\\Anaconda\\lib\\site-packages\\pandas\\io\\sql.py\u001b[0m in \u001b[0;36mto_sql\u001b[1;34m(self, frame, name, if_exists, index, index_label, schema, chunksize, dtype, method)\u001b[0m\n\u001b[0;32m   1732\u001b[0m         )\n\u001b[0;32m   1733\u001b[0m         \u001b[0mtable\u001b[0m\u001b[1;33m.\u001b[0m\u001b[0mcreate\u001b[0m\u001b[1;33m(\u001b[0m\u001b[1;33m)\u001b[0m\u001b[1;33m\u001b[0m\u001b[1;33m\u001b[0m\u001b[0m\n\u001b[1;32m-> 1734\u001b[1;33m         \u001b[0mtable\u001b[0m\u001b[1;33m.\u001b[0m\u001b[0minsert\u001b[0m\u001b[1;33m(\u001b[0m\u001b[0mchunksize\u001b[0m\u001b[1;33m,\u001b[0m \u001b[0mmethod\u001b[0m\u001b[1;33m)\u001b[0m\u001b[1;33m\u001b[0m\u001b[1;33m\u001b[0m\u001b[0m\n\u001b[0m\u001b[0;32m   1735\u001b[0m \u001b[1;33m\u001b[0m\u001b[0m\n\u001b[0;32m   1736\u001b[0m     \u001b[1;32mdef\u001b[0m \u001b[0mhas_table\u001b[0m\u001b[1;33m(\u001b[0m\u001b[0mself\u001b[0m\u001b[1;33m,\u001b[0m \u001b[0mname\u001b[0m\u001b[1;33m,\u001b[0m \u001b[0mschema\u001b[0m\u001b[1;33m=\u001b[0m\u001b[1;32mNone\u001b[0m\u001b[1;33m)\u001b[0m\u001b[1;33m:\u001b[0m\u001b[1;33m\u001b[0m\u001b[1;33m\u001b[0m\u001b[0m\n",
      "\u001b[1;32mE:\\Anaconda\\lib\\site-packages\\pandas\\io\\sql.py\u001b[0m in \u001b[0;36minsert\u001b[1;34m(self, chunksize, method)\u001b[0m\n\u001b[0;32m    753\u001b[0m \u001b[1;33m\u001b[0m\u001b[0m\n\u001b[0;32m    754\u001b[0m                 \u001b[0mchunk_iter\u001b[0m \u001b[1;33m=\u001b[0m \u001b[0mzip\u001b[0m\u001b[1;33m(\u001b[0m\u001b[1;33m*\u001b[0m\u001b[1;33m[\u001b[0m\u001b[0marr\u001b[0m\u001b[1;33m[\u001b[0m\u001b[0mstart_i\u001b[0m\u001b[1;33m:\u001b[0m\u001b[0mend_i\u001b[0m\u001b[1;33m]\u001b[0m \u001b[1;32mfor\u001b[0m \u001b[0marr\u001b[0m \u001b[1;32min\u001b[0m \u001b[0mdata_list\u001b[0m\u001b[1;33m]\u001b[0m\u001b[1;33m)\u001b[0m\u001b[1;33m\u001b[0m\u001b[1;33m\u001b[0m\u001b[0m\n\u001b[1;32m--> 755\u001b[1;33m                 \u001b[0mexec_insert\u001b[0m\u001b[1;33m(\u001b[0m\u001b[0mconn\u001b[0m\u001b[1;33m,\u001b[0m \u001b[0mkeys\u001b[0m\u001b[1;33m,\u001b[0m \u001b[0mchunk_iter\u001b[0m\u001b[1;33m)\u001b[0m\u001b[1;33m\u001b[0m\u001b[1;33m\u001b[0m\u001b[0m\n\u001b[0m\u001b[0;32m    756\u001b[0m \u001b[1;33m\u001b[0m\u001b[0m\n\u001b[0;32m    757\u001b[0m     def _query_iterator(\n",
      "\u001b[1;32mE:\\Anaconda\\lib\\site-packages\\pandas\\io\\sql.py\u001b[0m in \u001b[0;36m_execute_insert\u001b[1;34m(self, conn, keys, data_iter)\u001b[0m\n\u001b[0;32m   1462\u001b[0m     \u001b[1;32mdef\u001b[0m \u001b[0m_execute_insert\u001b[0m\u001b[1;33m(\u001b[0m\u001b[0mself\u001b[0m\u001b[1;33m,\u001b[0m \u001b[0mconn\u001b[0m\u001b[1;33m,\u001b[0m \u001b[0mkeys\u001b[0m\u001b[1;33m,\u001b[0m \u001b[0mdata_iter\u001b[0m\u001b[1;33m)\u001b[0m\u001b[1;33m:\u001b[0m\u001b[1;33m\u001b[0m\u001b[1;33m\u001b[0m\u001b[0m\n\u001b[0;32m   1463\u001b[0m         \u001b[0mdata_list\u001b[0m \u001b[1;33m=\u001b[0m \u001b[0mlist\u001b[0m\u001b[1;33m(\u001b[0m\u001b[0mdata_iter\u001b[0m\u001b[1;33m)\u001b[0m\u001b[1;33m\u001b[0m\u001b[1;33m\u001b[0m\u001b[0m\n\u001b[1;32m-> 1464\u001b[1;33m         \u001b[0mconn\u001b[0m\u001b[1;33m.\u001b[0m\u001b[0mexecutemany\u001b[0m\u001b[1;33m(\u001b[0m\u001b[0mself\u001b[0m\u001b[1;33m.\u001b[0m\u001b[0minsert_statement\u001b[0m\u001b[1;33m(\u001b[0m\u001b[1;33m)\u001b[0m\u001b[1;33m,\u001b[0m \u001b[0mdata_list\u001b[0m\u001b[1;33m)\u001b[0m\u001b[1;33m\u001b[0m\u001b[1;33m\u001b[0m\u001b[0m\n\u001b[0m\u001b[0;32m   1465\u001b[0m \u001b[1;33m\u001b[0m\u001b[0m\n\u001b[0;32m   1466\u001b[0m     \u001b[1;32mdef\u001b[0m \u001b[0m_create_table_setup\u001b[0m\u001b[1;33m(\u001b[0m\u001b[0mself\u001b[0m\u001b[1;33m)\u001b[0m\u001b[1;33m:\u001b[0m\u001b[1;33m\u001b[0m\u001b[1;33m\u001b[0m\u001b[0m\n",
      "\u001b[1;31mIntegrityError\u001b[0m: UNIQUE constraint failed: test_schedule.CourseID"
     ]
    }
   ],
   "source": [
    "test_schedule.to_sql('test_schedule', db_conn, if_exists='append', index=False)"
   ]
  },
  {
   "cell_type": "code",
   "execution_count": 6,
   "metadata": {},
   "outputs": [],
   "source": [
    "convert_ShiftOD=pd.read_sql(\"SELECT * FROM test_schedule\", db_conn)\n",
    "convert_ShiftOD=convert_ShiftOD.groupby(['TestDate','ShiftOD'])['QuantityOfInvigilator'].sum().reset_index(name='totalOfInvigilator')\n",
    "df=convert_ShiftOD[['TestDate', 'ShiftOD']]\n",
    "TestDate=convert_ShiftOD['TestDate'].drop_duplicates().reset_index()\n",
    "TestDate=TestDate['TestDate']\n",
    "for n in range(1,5):\n",
    "    for i in TestDate:\n",
    "        df1 = [i, n]\n",
    "        rr=(df == df1).all(1).any()\n",
    "        if rr == False:\n",
    "            df1 = pd.DataFrame([[i, n, 0]],\n",
    "                       columns=['TestDate','ShiftOD','totalOfInvigilator'])\n",
    "            convert_ShiftOD=pd.concat([df1, convert_ShiftOD],ignore_index=True)"
   ]
  },
  {
   "cell_type": "code",
   "execution_count": 7,
   "metadata": {},
   "outputs": [],
   "source": [
    "convert_ShiftOD = convert_ShiftOD.sort_values(['TestDate','ShiftOD'], ascending=True, ignore_index=True)\n",
    "convert_ShiftOD['new_ShiftOD'] = range(1, len(convert_ShiftOD) + 1)\n"
   ]
  },
  {
   "cell_type": "code",
   "execution_count": 8,
   "metadata": {},
   "outputs": [
    {
     "ename": "OperationalError",
     "evalue": "table convert_ShiftOD already exists",
     "output_type": "error",
     "traceback": [
      "\u001b[1;31m---------------------------------------------------------------------------\u001b[0m",
      "\u001b[1;31mOperationalError\u001b[0m                          Traceback (most recent call last)",
      "\u001b[1;32m<ipython-input-8-2a3aa6d86ec3>\u001b[0m in \u001b[0;36m<module>\u001b[1;34m\u001b[0m\n\u001b[1;32m----> 1\u001b[1;33m cursor.executescript(\"\"\" \n\u001b[0m\u001b[0;32m      2\u001b[0m     CREATE TABLE convert_ShiftOD(\n\u001b[0;32m      3\u001b[0m         \u001b[0mTestDate\u001b[0m \u001b[0mINTEGER\u001b[0m \u001b[0mNOT\u001b[0m \u001b[0mNULL\u001b[0m\u001b[1;33m,\u001b[0m\u001b[1;33m\u001b[0m\u001b[1;33m\u001b[0m\u001b[0m\n\u001b[0;32m      4\u001b[0m         \u001b[0mShiftOD\u001b[0m \u001b[0mINTEGER\u001b[0m\u001b[1;33m,\u001b[0m\u001b[1;33m\u001b[0m\u001b[1;33m\u001b[0m\u001b[0m\n\u001b[0;32m      5\u001b[0m         \u001b[0mtotalOfInvigilator\u001b[0m \u001b[0mINTEGER\u001b[0m\u001b[1;33m,\u001b[0m\u001b[1;33m\u001b[0m\u001b[1;33m\u001b[0m\u001b[0m\n",
      "\u001b[1;31mOperationalError\u001b[0m: table convert_ShiftOD already exists"
     ]
    }
   ],
   "source": [
    "cursor.executescript(\"\"\" \n",
    "    CREATE TABLE convert_ShiftOD(\n",
    "        TestDate INTEGER NOT NULL,\n",
    "        ShiftOD INTEGER,\n",
    "        totalOfInvigilator INTEGER,\n",
    "        new_ShiftOD INTEGER,\n",
    "        CONSTRAINT fk_date\n",
    "        FOREIGN KEY (TestDate, ShiftOD)\n",
    "        REFERENCES test_schedule(TestDate, ShiftOD)\n",
    "        ); \n",
    "    \"\"\")"
   ]
  },
  {
   "cell_type": "code",
   "execution_count": 9,
   "metadata": {},
   "outputs": [],
   "source": [
    "convert_ShiftOD.to_sql('convert_ShiftOD', db_conn, if_exists='append', index=False)"
   ]
  },
  {
   "cell_type": "code",
   "execution_count": 10,
   "metadata": {},
   "outputs": [],
   "source": [
    "new_ShiftofDay=pd.read_sql(\"\"\"SELECT test_schedule.CourseID, convert_ShiftOD.new_ShiftOD, test_schedule.QuantityOfInvigilator \n",
    "            FROM test_schedule, convert_ShiftOD \n",
    "            WHERE test_schedule.TestDate=convert_ShiftOD.TestDate AND test_schedule.ShiftOD=convert_ShiftOD.ShiftOD\"\"\", db_conn)"
   ]
  },
  {
   "cell_type": "code",
   "execution_count": 11,
   "metadata": {},
   "outputs": [],
   "source": [
    "invigilator = pd.read_excel(\n",
    "    'TeacherList.xlsx', \n",
    "    sheet_name='Sheet1',\n",
    "    header=0,\n",
    "    )"
   ]
  },
  {
   "cell_type": "code",
   "execution_count": 12,
   "metadata": {},
   "outputs": [
    {
     "ename": "OperationalError",
     "evalue": "table invigilator already exists",
     "output_type": "error",
     "traceback": [
      "\u001b[1;31m---------------------------------------------------------------------------\u001b[0m",
      "\u001b[1;31mOperationalError\u001b[0m                          Traceback (most recent call last)",
      "\u001b[1;32m<ipython-input-12-e7652fced4eb>\u001b[0m in \u001b[0;36m<module>\u001b[1;34m\u001b[0m\n\u001b[1;32m----> 1\u001b[1;33m cursor.executescript(\"\"\" \n\u001b[0m\u001b[0;32m      2\u001b[0m     CREATE TABLE invigilator(\n\u001b[0;32m      3\u001b[0m         \u001b[0mID\u001b[0m \u001b[0mINT\u001b[0m\u001b[1;33m,\u001b[0m\u001b[1;33m\u001b[0m\u001b[1;33m\u001b[0m\u001b[0m\n\u001b[0;32m      4\u001b[0m         \u001b[0mFull_Name\u001b[0m \u001b[0mTEXT\u001b[0m\u001b[1;33m,\u001b[0m\u001b[1;33m\u001b[0m\u001b[1;33m\u001b[0m\u001b[0m\n\u001b[0;32m      5\u001b[0m         \u001b[0mPRIMARY\u001b[0m \u001b[0mKEY\u001b[0m\u001b[1;33m(\u001b[0m\u001b[0mID\u001b[0m\u001b[1;33m)\u001b[0m\u001b[1;33m\u001b[0m\u001b[1;33m\u001b[0m\u001b[0m\n",
      "\u001b[1;31mOperationalError\u001b[0m: table invigilator already exists"
     ]
    }
   ],
   "source": [
    "cursor.executescript(\"\"\" \n",
    "    CREATE TABLE invigilator(\n",
    "        ID INT,\n",
    "        Full_Name TEXT,\n",
    "        PRIMARY KEY(ID)\n",
    "        ); \n",
    "    \"\"\")"
   ]
  },
  {
   "cell_type": "code",
   "execution_count": 13,
   "metadata": {},
   "outputs": [
    {
     "ename": "IntegrityError",
     "evalue": "UNIQUE constraint failed: invigilator.ID",
     "output_type": "error",
     "traceback": [
      "\u001b[1;31m---------------------------------------------------------------------------\u001b[0m",
      "\u001b[1;31mIntegrityError\u001b[0m                            Traceback (most recent call last)",
      "\u001b[1;32m<ipython-input-13-89db2abf7d55>\u001b[0m in \u001b[0;36m<module>\u001b[1;34m\u001b[0m\n\u001b[1;32m----> 1\u001b[1;33m \u001b[0minvigilator\u001b[0m\u001b[1;33m.\u001b[0m\u001b[0mto_sql\u001b[0m\u001b[1;33m(\u001b[0m\u001b[1;34m'invigilator'\u001b[0m\u001b[1;33m,\u001b[0m \u001b[0mdb_conn\u001b[0m\u001b[1;33m,\u001b[0m \u001b[0mif_exists\u001b[0m\u001b[1;33m=\u001b[0m\u001b[1;34m'append'\u001b[0m\u001b[1;33m,\u001b[0m \u001b[0mindex\u001b[0m\u001b[1;33m=\u001b[0m\u001b[1;32mFalse\u001b[0m\u001b[1;33m)\u001b[0m\u001b[1;33m\u001b[0m\u001b[1;33m\u001b[0m\u001b[0m\n\u001b[0m",
      "\u001b[1;32mE:\\Anaconda\\lib\\site-packages\\pandas\\core\\generic.py\u001b[0m in \u001b[0;36mto_sql\u001b[1;34m(self, name, con, schema, if_exists, index, index_label, chunksize, dtype, method)\u001b[0m\n\u001b[0;32m   2651\u001b[0m         \u001b[1;32mfrom\u001b[0m \u001b[0mpandas\u001b[0m\u001b[1;33m.\u001b[0m\u001b[0mio\u001b[0m \u001b[1;32mimport\u001b[0m \u001b[0msql\u001b[0m\u001b[1;33m\u001b[0m\u001b[1;33m\u001b[0m\u001b[0m\n\u001b[0;32m   2652\u001b[0m \u001b[1;33m\u001b[0m\u001b[0m\n\u001b[1;32m-> 2653\u001b[1;33m         sql.to_sql(\n\u001b[0m\u001b[0;32m   2654\u001b[0m             \u001b[0mself\u001b[0m\u001b[1;33m,\u001b[0m\u001b[1;33m\u001b[0m\u001b[1;33m\u001b[0m\u001b[0m\n\u001b[0;32m   2655\u001b[0m             \u001b[0mname\u001b[0m\u001b[1;33m,\u001b[0m\u001b[1;33m\u001b[0m\u001b[1;33m\u001b[0m\u001b[0m\n",
      "\u001b[1;32mE:\\Anaconda\\lib\\site-packages\\pandas\\io\\sql.py\u001b[0m in \u001b[0;36mto_sql\u001b[1;34m(frame, name, con, schema, if_exists, index, index_label, chunksize, dtype, method)\u001b[0m\n\u001b[0;32m    510\u001b[0m         )\n\u001b[0;32m    511\u001b[0m \u001b[1;33m\u001b[0m\u001b[0m\n\u001b[1;32m--> 512\u001b[1;33m     pandas_sql.to_sql(\n\u001b[0m\u001b[0;32m    513\u001b[0m         \u001b[0mframe\u001b[0m\u001b[1;33m,\u001b[0m\u001b[1;33m\u001b[0m\u001b[1;33m\u001b[0m\u001b[0m\n\u001b[0;32m    514\u001b[0m         \u001b[0mname\u001b[0m\u001b[1;33m,\u001b[0m\u001b[1;33m\u001b[0m\u001b[1;33m\u001b[0m\u001b[0m\n",
      "\u001b[1;32mE:\\Anaconda\\lib\\site-packages\\pandas\\io\\sql.py\u001b[0m in \u001b[0;36mto_sql\u001b[1;34m(self, frame, name, if_exists, index, index_label, schema, chunksize, dtype, method)\u001b[0m\n\u001b[0;32m   1732\u001b[0m         )\n\u001b[0;32m   1733\u001b[0m         \u001b[0mtable\u001b[0m\u001b[1;33m.\u001b[0m\u001b[0mcreate\u001b[0m\u001b[1;33m(\u001b[0m\u001b[1;33m)\u001b[0m\u001b[1;33m\u001b[0m\u001b[1;33m\u001b[0m\u001b[0m\n\u001b[1;32m-> 1734\u001b[1;33m         \u001b[0mtable\u001b[0m\u001b[1;33m.\u001b[0m\u001b[0minsert\u001b[0m\u001b[1;33m(\u001b[0m\u001b[0mchunksize\u001b[0m\u001b[1;33m,\u001b[0m \u001b[0mmethod\u001b[0m\u001b[1;33m)\u001b[0m\u001b[1;33m\u001b[0m\u001b[1;33m\u001b[0m\u001b[0m\n\u001b[0m\u001b[0;32m   1735\u001b[0m \u001b[1;33m\u001b[0m\u001b[0m\n\u001b[0;32m   1736\u001b[0m     \u001b[1;32mdef\u001b[0m \u001b[0mhas_table\u001b[0m\u001b[1;33m(\u001b[0m\u001b[0mself\u001b[0m\u001b[1;33m,\u001b[0m \u001b[0mname\u001b[0m\u001b[1;33m,\u001b[0m \u001b[0mschema\u001b[0m\u001b[1;33m=\u001b[0m\u001b[1;32mNone\u001b[0m\u001b[1;33m)\u001b[0m\u001b[1;33m:\u001b[0m\u001b[1;33m\u001b[0m\u001b[1;33m\u001b[0m\u001b[0m\n",
      "\u001b[1;32mE:\\Anaconda\\lib\\site-packages\\pandas\\io\\sql.py\u001b[0m in \u001b[0;36minsert\u001b[1;34m(self, chunksize, method)\u001b[0m\n\u001b[0;32m    753\u001b[0m \u001b[1;33m\u001b[0m\u001b[0m\n\u001b[0;32m    754\u001b[0m                 \u001b[0mchunk_iter\u001b[0m \u001b[1;33m=\u001b[0m \u001b[0mzip\u001b[0m\u001b[1;33m(\u001b[0m\u001b[1;33m*\u001b[0m\u001b[1;33m[\u001b[0m\u001b[0marr\u001b[0m\u001b[1;33m[\u001b[0m\u001b[0mstart_i\u001b[0m\u001b[1;33m:\u001b[0m\u001b[0mend_i\u001b[0m\u001b[1;33m]\u001b[0m \u001b[1;32mfor\u001b[0m \u001b[0marr\u001b[0m \u001b[1;32min\u001b[0m \u001b[0mdata_list\u001b[0m\u001b[1;33m]\u001b[0m\u001b[1;33m)\u001b[0m\u001b[1;33m\u001b[0m\u001b[1;33m\u001b[0m\u001b[0m\n\u001b[1;32m--> 755\u001b[1;33m                 \u001b[0mexec_insert\u001b[0m\u001b[1;33m(\u001b[0m\u001b[0mconn\u001b[0m\u001b[1;33m,\u001b[0m \u001b[0mkeys\u001b[0m\u001b[1;33m,\u001b[0m \u001b[0mchunk_iter\u001b[0m\u001b[1;33m)\u001b[0m\u001b[1;33m\u001b[0m\u001b[1;33m\u001b[0m\u001b[0m\n\u001b[0m\u001b[0;32m    756\u001b[0m \u001b[1;33m\u001b[0m\u001b[0m\n\u001b[0;32m    757\u001b[0m     def _query_iterator(\n",
      "\u001b[1;32mE:\\Anaconda\\lib\\site-packages\\pandas\\io\\sql.py\u001b[0m in \u001b[0;36m_execute_insert\u001b[1;34m(self, conn, keys, data_iter)\u001b[0m\n\u001b[0;32m   1462\u001b[0m     \u001b[1;32mdef\u001b[0m \u001b[0m_execute_insert\u001b[0m\u001b[1;33m(\u001b[0m\u001b[0mself\u001b[0m\u001b[1;33m,\u001b[0m \u001b[0mconn\u001b[0m\u001b[1;33m,\u001b[0m \u001b[0mkeys\u001b[0m\u001b[1;33m,\u001b[0m \u001b[0mdata_iter\u001b[0m\u001b[1;33m)\u001b[0m\u001b[1;33m:\u001b[0m\u001b[1;33m\u001b[0m\u001b[1;33m\u001b[0m\u001b[0m\n\u001b[0;32m   1463\u001b[0m         \u001b[0mdata_list\u001b[0m \u001b[1;33m=\u001b[0m \u001b[0mlist\u001b[0m\u001b[1;33m(\u001b[0m\u001b[0mdata_iter\u001b[0m\u001b[1;33m)\u001b[0m\u001b[1;33m\u001b[0m\u001b[1;33m\u001b[0m\u001b[0m\n\u001b[1;32m-> 1464\u001b[1;33m         \u001b[0mconn\u001b[0m\u001b[1;33m.\u001b[0m\u001b[0mexecutemany\u001b[0m\u001b[1;33m(\u001b[0m\u001b[0mself\u001b[0m\u001b[1;33m.\u001b[0m\u001b[0minsert_statement\u001b[0m\u001b[1;33m(\u001b[0m\u001b[1;33m)\u001b[0m\u001b[1;33m,\u001b[0m \u001b[0mdata_list\u001b[0m\u001b[1;33m)\u001b[0m\u001b[1;33m\u001b[0m\u001b[1;33m\u001b[0m\u001b[0m\n\u001b[0m\u001b[0;32m   1465\u001b[0m \u001b[1;33m\u001b[0m\u001b[0m\n\u001b[0;32m   1466\u001b[0m     \u001b[1;32mdef\u001b[0m \u001b[0m_create_table_setup\u001b[0m\u001b[1;33m(\u001b[0m\u001b[0mself\u001b[0m\u001b[1;33m)\u001b[0m\u001b[1;33m:\u001b[0m\u001b[1;33m\u001b[0m\u001b[1;33m\u001b[0m\u001b[0m\n",
      "\u001b[1;31mIntegrityError\u001b[0m: UNIQUE constraint failed: invigilator.ID"
     ]
    }
   ],
   "source": [
    "invigilator.to_sql('invigilator', db_conn, if_exists='append', index=False)"
   ]
  },
  {
   "cell_type": "code",
   "execution_count": 14,
   "metadata": {},
   "outputs": [],
   "source": [
    "number_of_supervisors_shift = [] # mảng lưu số lượng người coi thi của mỗi ca\n",
    "for i in range(0,len(convert_ShiftOD)):\n",
    "    number_of_supervisors_shift.append(convert_ShiftOD.iat[i,2])"
   ]
  },
  {
   "cell_type": "code",
   "execution_count": 15,
   "metadata": {},
   "outputs": [
    {
     "data": {
      "text/plain": [
       "[4, 8, 12, 16, 20, 23, 24, 28, 32, 36, 40, 44, 48]"
      ]
     },
     "execution_count": 15,
     "metadata": {},
     "output_type": "execute_result"
    }
   ],
   "source": [
    "cases_without_supervision = [] # mảng lưu những ca thi không cần người coi\n",
    "for i in range(0,len(convert_ShiftOD)):\n",
    "    if convert_ShiftOD.iat[i,2]==0:\n",
    "        cases_without_supervision.append(convert_ShiftOD.iat[i,3])\n",
    "cases_without_supervision"
   ]
  },
  {
   "cell_type": "code",
   "execution_count": 16,
   "metadata": {},
   "outputs": [
    {
     "ename": "NameError",
     "evalue": "name 'a' is not defined",
     "output_type": "error",
     "traceback": [
      "\u001b[1;31m---------------------------------------------------------------------------\u001b[0m",
      "\u001b[1;31mNameError\u001b[0m                                 Traceback (most recent call last)",
      "\u001b[1;32m<ipython-input-16-d0052c89dfc4>\u001b[0m in \u001b[0;36m<module>\u001b[1;34m\u001b[0m\n\u001b[0;32m     10\u001b[0m \u001b[1;33m\u001b[0m\u001b[0m\n\u001b[0;32m     11\u001b[0m \u001b[0mn_individuals\u001b[0m\u001b[1;33m=\u001b[0m\u001b[1;36m50\u001b[0m                                       \u001b[1;31m#   số lượng cá thể trong quần thể\u001b[0m\u001b[1;33m\u001b[0m\u001b[1;33m\u001b[0m\u001b[0m\n\u001b[1;32m---> 12\u001b[1;33m \u001b[0mprint\u001b[0m\u001b[1;33m(\u001b[0m\u001b[0ma\u001b[0m\u001b[1;33m,\u001b[0m\u001b[0mb\u001b[0m\u001b[1;33m,\u001b[0m\u001b[0mc\u001b[0m\u001b[1;33m,\u001b[0m\u001b[0md\u001b[0m\u001b[1;33m,\u001b[0m\u001b[0mf\u001b[0m\u001b[1;33m,\u001b[0m\u001b[0mn\u001b[0m\u001b[1;33m)\u001b[0m\u001b[1;33m\u001b[0m\u001b[1;33m\u001b[0m\u001b[0m\n\u001b[0m",
      "\u001b[1;31mNameError\u001b[0m: name 'a' is not defined"
     ]
    }
   ],
   "source": [
    "n_invigilators = invigilator['ID'].value_counts().count()         #tổng số CBCT a\n",
    "\n",
    "shifts_count = convert_ShiftOD['new_ShiftOD'].value_counts().count()      #đém số ca thi b\n",
    "\n",
    "total_shifts = convert_ShiftOD['totalOfInvigilator'].sum(axis=0)              #tong so ca thi can coi c\n",
    " \n",
    "average_shifts = total_shifts//n_invigilators                 # so ca thi trung binh mot Can Bo Coi Thi can coi d\n",
    "\n",
    "f=total_shifts%n_invigilators                   # so CBCT coi nhieu hon trung binh f\n",
    "\n",
    "n_individuals=50                                       #   số lượng cá thể trong quần thể\n",
    "print(a,b,c,d,f,n)"
   ]
  },
  {
   "cell_type": "code",
   "execution_count": 17,
   "metadata": {},
   "outputs": [],
   "source": [
    "def tao_cathe(arr):                         # tạo một cá thể\n",
    "    k=0\n",
    "    for i in range(0, n_invigilators):\n",
    "        sum=0\n",
    "        for j in range(0, shifts_count):\n",
    "            if k<f :                   #f=c%a\n",
    "                 if sum<average_shifts+1 :\n",
    "                    arr[0][i][j]=1\n",
    "                    sum=sum+arr[0][i][j]\n",
    "            else :\n",
    "                if sum<average_shifts :\n",
    "                    arr[0][i][j]=1\n",
    "                    sum=sum+arr[0][i][j]\n",
    "        random.shuffle(arr[0][i])\n",
    "        k=k+1\n",
    "    return arr  "
   ]
  },
  {
   "cell_type": "code",
   "execution_count": 18,
   "metadata": {},
   "outputs": [],
   "source": [
    "def chinh_cathe():       #sắp xếp lại thành cá thể hoàn chỉnh\n",
    "    arr = np.zeros((1,n_invigilators,shifts_count),dtype = int) # tạo mảng zero\n",
    "    tao_cathe(arr)                     # tạo mảng \n",
    "    drr=arr[0].sum(axis=0)            #tạo mảng chứa tổng mỗi cột của arr[]\n",
    "    brr = []\n",
    "    for i in range(len(convert_ShiftOD)):\n",
    "        brr.append( drr[i]-number_of_supervisors_shift[i])      #tạo mảng chứa \n",
    "    for i in range(0,len(brr)):\n",
    "        while brr[i]<0:\n",
    "            temp=0\n",
    "            for m in range(0,shifts_count):\n",
    "                if brr[m]>0:\n",
    "                    for j in range(0,n_invigilators):\n",
    "                        if arr[0][j][i]==0 and arr[0][j][m]==1:\n",
    "                                arr[0][j][i], arr[0][j][m] = arr[0][j][m], arr[0][j][i]\n",
    "                                brr[m]= brr[m]-1\n",
    "                                brr[i]= brr[i]+1\n",
    "                                temp=1\n",
    "                                break\n",
    "            if temp==0:\n",
    "                for m in range(0,shifts_count):\n",
    "                    if brr[m]>0:\n",
    "                         for j in range(0,n_invigilators):\n",
    "                            if arr[0][j][m]==1:\n",
    "                                arr[0][j][m]=0\n",
    "                                brr[m]= brr[m]-1\n",
    "                                break\n",
    "                for j in range(n_invigilators-1,0,-1):\n",
    "                    if arr[0][j][i]==0 :\n",
    "                                arr[0][j][i]=1\n",
    "                                brr[i]= brr[i]+1\n",
    "                                break\n",
    "    return arr"
   ]
  },
  {
   "cell_type": "code",
   "execution_count": 19,
   "metadata": {},
   "outputs": [],
   "source": [
    "def create_population():\n",
    "    population = np.zeros((0,n_invigilators,shifts_count),dtype = int)   #   khởi tạo quần thể ban đầu\n",
    "    for i in range(0,n_individuals):\n",
    "        arr = chinh_cathe()\n",
    "        population  = np.concatenate((population ,arr))\n",
    "    return population"
   ]
  },
  {
   "cell_type": "code",
   "execution_count": 20,
   "metadata": {},
   "outputs": [],
   "source": [
    "population=create_population()"
   ]
  },
  {
   "cell_type": "code",
   "execution_count": 21,
   "metadata": {},
   "outputs": [
    {
     "data": {
      "text/plain": [
       "array([ 29, 115,  14,   0,  15, 104,  15,   0,  14, 108,  23,   0,  14,\n",
       "        92,  22,   0,  27,  52,  20,   0,  43,  39,   0,   0,  14,  53,\n",
       "        32,   0,  12,  73,  30,   0,   7,  47,  32,   0,  16,  49,  38,\n",
       "         0,  20,  34,  36,   0,  30,  38,   2,   0])"
      ]
     },
     "execution_count": 21,
     "metadata": {},
     "output_type": "execute_result"
    }
   ],
   "source": [
    "population[11].sum(axis=0)"
   ]
  },
  {
   "cell_type": "code",
   "execution_count": 45,
   "metadata": {},
   "outputs": [],
   "source": [
    "def weight_compute(bin_matrix, pen_val=10):\n",
    "    \"\"\"\n",
    "    Compute weight overall weight on input binary matrix\n",
    "    arguments:\n",
    "    - bin_matrix (numpy array): binary matrix with shape num_of_staff x num_of_exam\n",
    "    - pen_value: the penalty value for each day longer than expected\n",
    "    return:\n",
    "    overall weight: type int\n",
    "    \"\"\"\n",
    "    # compute the number of \"1\" value on each row\n",
    "    num_of_ones = np.sum(bin_matrix, axis=1) \n",
    "    # compute number of day expected from exam assignment\n",
    "    actual_days = list(map(lambda x: math.ceil(x), num_of_ones/4))\n",
    "    #print(actual_days)\n",
    "    # Find the position of 1 value on each row\n",
    "    one_pos = np.where(bin_matrix == 1)[1]\n",
    "    #print(one_pos[11:23])\n",
    "    # Compute temporary indices for reshaping one_pos\n",
    "    adj_indices = [0]\n",
    "    sum_temp = 0\n",
    "    for i in range(0, len(num_of_ones)):\n",
    "        sum_temp = sum_temp + num_of_ones[i]\n",
    "        adj_indices.append(sum_temp)\n",
    "    for i in range(1, len(adj_indices)):\n",
    "        if adj_indices[i]==adj_indices[i-1]:\n",
    "            return 20000\n",
    "    #print(adj_indices)\n",
    "    # Reshaping one_pos to array with len=num_of_staff and each element is \n",
    "    # an array store index of 1  value \n",
    "    shaped_one_pos = [ one_pos[adj_indices[i]:adj_indices[i+1]] for i in range(0, len(adj_indices)-1)]\n",
    "    #print(shaped_one_pos)\n",
    "    # Find min and max position of 1 value on each staff\n",
    "    min_pos = list(map(min, shaped_one_pos))\n",
    "    #print(min_pos)\n",
    "    max_pos = list(map(max, shaped_one_pos))\n",
    "    #print(max_pos)\n",
    "    #Compute number of unattended shifts between max and min\n",
    "    unattended_shifts=[]\n",
    "    for i,j in zip(min_pos,max_pos):\n",
    "        unattended_shifts.append(len([x for x in cases_without_supervision if i<x<j]))\n",
    "    # Compute number of maximum 1 value could have between min_pos and max_pos for each staff\n",
    "    exp_ones = [ max-min+1-i for min, max, i in zip(min_pos, max_pos, unattended_shifts)]\n",
    "    # Compute number of 0 value between min_pos and max_pos \n",
    "    num_of_zero = [m_one - n_one for m_one, n_one in zip(exp_ones, num_of_ones)]\n",
    "    # Compute number of days current spaned on each staff\n",
    "    day_spans = [math.ceil((max+1)/4) - min//4 for min, max in zip(min_pos, max_pos)]\n",
    "    #print(day_spans)\n",
    "    # Compute number of days for penalizing \n",
    "    day_pens = [c_day - a_day for c_day, a_day in zip(day_spans, actual_days)]\n",
    "    #print(day_pens)\n",
    "    # compute overall weight\n",
    "    weight = sum(num_of_zero) + sum(day_pens)*pen_val\n",
    "    return weight"
   ]
  },
  {
   "cell_type": "code",
   "execution_count": 46,
   "metadata": {},
   "outputs": [],
   "source": [
    "individual_copy=population[11].copy()\n",
    "for i in cases_without_supervision:\n",
    "    individual_copy[:,i-1]=1   "
   ]
  },
  {
   "cell_type": "code",
   "execution_count": 47,
   "metadata": {},
   "outputs": [
    {
     "data": {
      "text/plain": [
       "11687"
      ]
     },
     "execution_count": 47,
     "metadata": {},
     "output_type": "execute_result"
    }
   ],
   "source": [
    "weight_compute(population[11])"
   ]
  },
  {
   "cell_type": "code",
   "execution_count": 48,
   "metadata": {},
   "outputs": [],
   "source": [
    "def kiem_tra(individual1):         #    hàm kiểm tra các ca thi có khớp nhau hay không\n",
    "    temp=(np.array(individual1) == np.array(number_of_supervisors_shift))\n",
    "    for i in temp:\n",
    "        if i==False:\n",
    "            return False\n",
    "            break"
   ]
  },
  {
   "cell_type": "code",
   "execution_count": 49,
   "metadata": {},
   "outputs": [],
   "source": [
    "# tinh fitness\n",
    "def compute_fitness(individual):\n",
    "    fitness=0\n",
    "    tong_coithi= individual.sum()               #  tổng số buổi coi thi trong kì thi \n",
    "   \n",
    "    fitness=weight_compute(individual)\n",
    "    if tong_coithi != total_shifts:                        #  nếu ràng buộc cứng bị vi phạm thì phạt nặng\n",
    "        fitness=fitness+10000\n",
    "    if kiem_tra(individual.sum(axis=0))==False:\n",
    "        fitness=fitness+10000\n",
    "    return fitness"
   ]
  },
  {
   "cell_type": "code",
   "execution_count": 50,
   "metadata": {},
   "outputs": [],
   "source": [
    "# chon loc\n",
    "def selection(sorted_population):\n",
    "    index1 = random.randint(0, n_individuals-1)\n",
    "    while True:\n",
    "        index2 = random.randint(0, n_individuals-1)\n",
    "        if index2 != index1:\n",
    "            break\n",
    "    individual = sorted_population[index1]\n",
    "    if index2 > index1:\n",
    "        individual = sorted_population[index2]\n",
    "    return individual"
   ]
  },
  {
   "cell_type": "code",
   "execution_count": 51,
   "metadata": {},
   "outputs": [],
   "source": [
    "# lai ghep:\n",
    "def crossover(individual1, individual2, crossover_rate = 0.5):\n",
    "    individual1_new = np.zeros((1,n_invigilators,shifts_count),dtype = int)\n",
    "    individual2_new = np.zeros((1,n_invigilators,shifts_count),dtype = int)\n",
    "    individual1_new[0] = individual1.copy()\n",
    "    individual2_new[0] = individual2.copy()\n",
    "    for i in range(0, n_invigilators):\n",
    "        for j in range(0, shifts_count):\n",
    "            if random.random() < crossover_rate:\n",
    "                individual1_new[0][i][j] = individual2[i][j]\n",
    "                individual2_new[0][i][j] = individual1[i][j]            \n",
    "    return individual1_new, individual2_new"
   ]
  },
  {
   "cell_type": "code",
   "execution_count": 52,
   "metadata": {},
   "outputs": [],
   "source": [
    "# dot bien\n",
    "def mutate(individual, mutation_rate = 0.05):\n",
    "    individual_m = np.zeros((1,n_invigilators,shifts_count),dtype = int)\n",
    "    individual_m = individual.copy()\n",
    "    for i in range(0, n_invigilators):\n",
    "        for j in range(0, shifts_count):\n",
    "            if random.random() < mutation_rate:\n",
    "                individual_m[0][i][j] = random.randint(0,1)\n",
    "    return individual_m"
   ]
  },
  {
   "cell_type": "code",
   "execution_count": 53,
   "metadata": {},
   "outputs": [],
   "source": [
    "# tao quan the moi\n",
    "fitnesses = []\n",
    "def create_new_population(soted_old_population):\n",
    "    # luu vao losses\n",
    "    fitnesses.append(compute_fitness(sorted_old_population[-1]))\n",
    "    \n",
    "    #in cac gia tri tot nhat qua tung doi\n",
    "    print(fitnesses[-1])\n",
    "    #print(sorted_old_population[-1])\n",
    "    new_population =  np.zeros((0,n_invigilators,shifts_count),dtype = int)\n",
    "    while len(new_population) < n_individuals-10:\n",
    "        # chon loc\n",
    "        individual1 = selection(sorted_old_population)\n",
    "        individual2 = selection(sorted_old_population)\n",
    "        # lai ghep\n",
    "        individual_c1, individual_c2 = crossover(individual1, individual2)\n",
    "        # dot bien\n",
    "        individual_m1 = mutate(individual_c1)\n",
    "        individual_m2 = mutate(individual_c2) \n",
    "        # nếu không thỏa mãn ràng buộc cứng thay bằng cá thể mới\n",
    "        if compute_fitness(individual_m1[0])>15000:                     \n",
    "            individual_m1 = chinh_cathe() \n",
    "        if compute_fitness(individual_m2[0])>1000:\n",
    "            individual_m2 = chinh_cathe()\n",
    "        # cho vao quan the moi\n",
    "        new_population = np.concatenate((new_population ,individual_m1))\n",
    "        new_population = np.concatenate((new_population ,individual_m2))\n",
    "    # cho 10 con dep nhat cua quan the cu vao quan the moi\n",
    "    for i in range(1,11):\n",
    "        new_individual =  np.zeros((1,n_invigilators,shifts_count),dtype = int)\n",
    "        new_individual[0] = sorted_old_population[-i].copy()\n",
    "        new_population = np.concatenate((new_population ,new_individual))\n",
    "    return new_population"
   ]
  },
  {
   "cell_type": "code",
   "execution_count": 55,
   "metadata": {},
   "outputs": [
    {
     "name": "stdout",
     "output_type": "stream",
     "text": [
      "11587\n",
      "11487\n",
      "11340\n",
      "11340\n",
      "11340\n",
      "11340\n",
      "11340\n",
      "11340\n",
      "11340\n",
      "11340\n",
      "11340\n",
      "11340\n",
      "11340\n",
      "11340\n",
      "11340\n",
      "11340\n",
      "11340\n",
      "11340\n",
      "11340\n",
      "11339\n",
      "11339\n",
      "11339\n",
      "11339\n",
      "11339\n",
      "11339\n",
      "11339\n",
      "11339\n",
      "11339\n",
      "11339\n",
      "11339\n",
      "11339\n",
      "11339\n",
      "11339\n",
      "11339\n",
      "11339\n",
      "11339\n",
      "11339\n",
      "11339\n",
      "11339\n",
      "11339\n",
      "11339\n",
      "11339\n",
      "11339\n",
      "11339\n",
      "11339\n",
      "11339\n",
      "11339\n",
      "11339\n",
      "11339\n",
      "11339\n",
      "11339\n",
      "11339\n",
      "11339\n",
      "11339\n",
      "11339\n",
      "11339\n",
      "11339\n",
      "11339\n",
      "11339\n",
      "11339\n",
      "11339\n",
      "11339\n",
      "11339\n",
      "11339\n",
      "11339\n",
      "11339\n",
      "11339\n",
      "11339\n",
      "11339\n",
      "11339\n",
      "11339\n",
      "11339\n",
      "11339\n",
      "11339\n",
      "11339\n",
      "11339\n",
      "11339\n",
      "11339\n",
      "11339\n",
      "11339\n",
      "11339\n",
      "11339\n",
      "11339\n",
      "11339\n",
      "11339\n",
      "11339\n",
      "11339\n",
      "11339\n",
      "11339\n",
      "11339\n",
      "11339\n",
      "11339\n",
      "11339\n",
      "11339\n",
      "11339\n",
      "11339\n",
      "11339\n",
      "11339\n",
      "11339\n",
      "11339\n"
     ]
    }
   ],
   "source": [
    "# tao quan the ban dau\n",
    "population=create_population()\n",
    "n_generations = 100\n",
    "for _ in range(n_generations):\n",
    "    sorted_old_population = sorted(population, reverse = True, key = compute_fitness)\n",
    "    population = create_new_population(sorted_old_population)"
   ]
  },
  {
   "cell_type": "code",
   "execution_count": 56,
   "metadata": {},
   "outputs": [
    {
     "name": "stdout",
     "output_type": "stream",
     "text": [
      "duong di ngan nhat:  chi phi:  11339\n",
      "[[0 1 0 ... 1 0 0]\n",
      " [0 1 0 ... 1 0 0]\n",
      " [0 1 0 ... 1 1 0]\n",
      " ...\n",
      " [0 1 0 ... 1 0 0]\n",
      " [0 1 1 ... 1 0 0]\n",
      " [0 1 0 ... 1 0 0]]\n"
     ]
    }
   ],
   "source": [
    "# hien thi tuyen duong ngan nhat\n",
    "print('duong di ngan nhat: ', 'chi phi: ', fitnesses[-1])\n",
    "print(sorted_old_population[49])\n",
    "#11340\n",
    "#11310"
   ]
  },
  {
   "cell_type": "code",
   "execution_count": 55,
   "metadata": {},
   "outputs": [
    {
     "name": "stdout",
     "output_type": "stream",
     "text": [
      "3521\n"
     ]
    },
    {
     "data": {
      "text/plain": [
       "11432"
      ]
     },
     "execution_count": 55,
     "metadata": {},
     "output_type": "execute_result"
    }
   ],
   "source": [
    "weight_compute(sorted_old_population[-1])"
   ]
  },
  {
   "cell_type": "code",
   "execution_count": 136,
   "metadata": {},
   "outputs": [
    {
     "ename": "IndexError",
     "evalue": "list index out of range",
     "output_type": "error",
     "traceback": [
      "\u001b[1;31m---------------------------------------------------------------------------\u001b[0m",
      "\u001b[1;31mIndexError\u001b[0m                                Traceback (most recent call last)",
      "\u001b[1;32m<ipython-input-136-0a32040ffc0b>\u001b[0m in \u001b[0;36m<module>\u001b[1;34m\u001b[0m\n\u001b[1;32m----> 1\u001b[1;33m \u001b[0mcompute_fitness\u001b[0m\u001b[1;33m(\u001b[0m\u001b[0msorted_old_population\u001b[0m\u001b[1;33m[\u001b[0m\u001b[1;33m-\u001b[0m\u001b[1;36m99\u001b[0m\u001b[1;33m]\u001b[0m\u001b[1;33m)\u001b[0m\u001b[1;33m\u001b[0m\u001b[1;33m\u001b[0m\u001b[0m\n\u001b[0m",
      "\u001b[1;31mIndexError\u001b[0m: list index out of range"
     ]
    }
   ],
   "source": [
    "compute_fitness(sorted_old_population[-99])"
   ]
  },
  {
   "cell_type": "code",
   "execution_count": 137,
   "metadata": {},
   "outputs": [],
   "source": [
    "workbook = xlsxwriter.Workbook('temp.xlsx')\n",
    "worksheet = workbook.add_worksheet()\n",
    "row = 0\n",
    "for i in range(len(sorted_old_population[-1].T)):\n",
    "    worksheet.write(row, i, \"Ca Thi \" + str(i + 1))\n",
    "row += 1\n",
    "for col, data in enumerate(sorted_old_population[-1].T):\n",
    "    worksheet.write_column(row, col, data)\n",
    "workbook.close()"
   ]
  },
  {
   "cell_type": "code",
   "execution_count": null,
   "metadata": {},
   "outputs": [],
   "source": [
    "new_ShiftofDay1=new_ShiftofDay"
   ]
  },
  {
   "cell_type": "code",
   "execution_count": null,
   "metadata": {},
   "outputs": [],
   "source": [
    "invigilatorID=[]\n",
    "CourseID = []\n",
    "for i in range(len(sorted_old_population[-1])):\n",
    "    for j in range(len(sorted_old_population[-1][0])):\n",
    "        if sorted_old_population[-1][i][j]==1:\n",
    "            invigilatorID.append(i+1)\n",
    "            for p in range(len(new_ShiftofDay1)):\n",
    "                if (new_ShiftofDay1.iat[p,1] == j+1) and (new_ShiftofDay1.iat[p,2]>0) :\n",
    "                    CourseID.append(p+1)\n",
    "                    new_ShiftofDay1.iat[p,2]=new_ShiftofDay1.iat[p,2]-1\n",
    "\n"
   ]
  },
  {
   "cell_type": "code",
   "execution_count": null,
   "metadata": {},
   "outputs": [],
   "source": [
    "\n",
    "data = {'ID': invigilatorID, \n",
    "        'CourseID':CourseID} "
   ]
  },
  {
   "cell_type": "code",
   "execution_count": null,
   "metadata": {},
   "outputs": [],
   "source": []
  },
  {
   "cell_type": "code",
   "execution_count": null,
   "metadata": {},
   "outputs": [],
   "source": [
    "df = pd.DataFrame(data) \n",
    "df"
   ]
  },
  {
   "cell_type": "code",
   "execution_count": null,
   "metadata": {},
   "outputs": [],
   "source": []
  },
  {
   "cell_type": "code",
   "execution_count": null,
   "metadata": {},
   "outputs": [],
   "source": [
    "cursor.executescript(\"\"\" \n",
    "    Drop TABLE test_schedule;\n",
    "    Drop TABLE convert_ShiftOD;\n",
    "    Drop TABLE invigilator;\n",
    "    Drop TABLE new_ShiftofDay;\n",
    "    Drop TABLE assign_schedule;\n",
    "    Drop TABLE Offical_assign_schedule\n",
    "    \"\"\") "
   ]
  },
  {
   "cell_type": "code",
   "execution_count": null,
   "metadata": {},
   "outputs": [],
   "source": [
    "cursor.executescript(\"\"\" \n",
    "\n",
    "    Drop TABLE Offical_assign_schedule\n",
    "    \"\"\") "
   ]
  },
  {
   "cell_type": "code",
   "execution_count": null,
   "metadata": {},
   "outputs": [],
   "source": []
  }
 ],
 "metadata": {
  "kernelspec": {
   "display_name": "Python 3",
   "language": "python",
   "name": "python3"
  },
  "language_info": {
   "codemirror_mode": {
    "name": "ipython",
    "version": 3
   },
   "file_extension": ".py",
   "mimetype": "text/x-python",
   "name": "python",
   "nbconvert_exporter": "python",
   "pygments_lexer": "ipython3",
   "version": "3.8.3"
  }
 },
 "nbformat": 4,
 "nbformat_minor": 4
}
